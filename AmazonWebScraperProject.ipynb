{
 "cells": [
  {
   "cell_type": "code",
   "execution_count": 256,
   "metadata": {},
   "outputs": [],
   "source": [
    "#importing libraries\n",
    "from bs4 import BeautifulSoup\n",
    "import requests\n",
    "import smtplib\n",
    "import time\n",
    "import datetime\n",
    "import re"
   ]
  },
  {
   "cell_type": "code",
   "execution_count": 257,
   "metadata": {},
   "outputs": [
    {
     "name": "stdout",
     "output_type": "stream",
     "text": [
      "\n",
      "             Amazon Fire TV Stick 4K Max streaming device, supports Wi-Fi 6E, free & live TV without cable or satellite\n",
      "            \n",
      "\n",
      "\n",
      "\n",
      "\n",
      "                 $59.99\n",
      "                \n",
      "\n",
      "\n",
      "\n",
      "\n",
      "\n",
      "                   $\n",
      "                  \n",
      "\n",
      "                   59\n",
      "                   \n",
      "                    .\n",
      "                   \n",
      "\n",
      "\n",
      "                   99\n",
      "                  \n",
      "\n",
      "\n",
      "\n",
      "\n",
      "\n",
      "\n",
      "\n",
      "\n",
      "\n",
      "\n",
      "\n",
      "\n",
      "\n",
      "\n",
      "24,019\n"
     ]
    }
   ],
   "source": [
    "# connecting website\n",
    "url = 'https://www.amazon.com/all-new-amazon-fire-tv-stick-4k-max/dp/B0BP9SNVH9'\n",
    "\n",
    "headers = { \"User-Agent\": \"Mozilla/5.0 (Windows NT 10.0; Win64; x64) AppleWebKit/537.36 (KHTML, like Gecko) Chrome/125.0.0.0 Safari/537.36 Edg/125.0.0.0\" }\n",
    "\n",
    "page = requests.get(url, headers=headers)\n",
    "\n",
    "soup1 = BeautifulSoup(page.content, \"html.parser\")\n",
    "soup2 = BeautifulSoup(soup1.prettify())\n",
    "\n",
    "title = soup2.find(id=\"productTitle\").get_text()\n",
    "price = soup2.find(id=\"corePriceDisplay_desktop_feature_div\").get_text()\n",
    "numOfRating = soup2.find(id=\"acrCustomerReviewLink\").get_text()\n",
    "cleaned_ratings = re.search(r'\\d{1,3}(,\\d{3})*', numOfRating).group()\n",
    "numOfRating = cleaned_ratings\n",
    "print(title)\n",
    "print(price)\n",
    "print(numOfRating)"
   ]
  },
  {
   "cell_type": "code",
   "execution_count": 258,
   "metadata": {},
   "outputs": [
    {
     "name": "stdout",
     "output_type": "stream",
     "text": [
      "59.99\n"
     ]
    }
   ],
   "source": [
    "import re\n",
    "cleaned_price = re.search(r'\\d+\\.\\d+', price).group()\n",
    "price = cleaned_price\n",
    "print(price)"
   ]
  },
  {
   "cell_type": "code",
   "execution_count": 259,
   "metadata": {},
   "outputs": [
    {
     "name": "stdout",
     "output_type": "stream",
     "text": [
      "Amazon Fire TV Stick 4K Max streaming device, supports Wi-Fi 6E, free & live TV without cable or satellite\n",
      "59.99\n"
     ]
    }
   ],
   "source": [
    "title = title.strip()\n",
    "print(title)\n",
    "print(price)"
   ]
  },
  {
   "cell_type": "code",
   "execution_count": 264,
   "metadata": {},
   "outputs": [],
   "source": [
    "import csv\n",
    "import datetime\n",
    "\n",
    "today = datetime.date.today()\n",
    "header = ['Date','Product Title', 'Price', 'Number of Ratings']\n",
    "data = [today, title, price, numOfRating]\n",
    "\n",
    "with open('AmazonWebScraperDataset.csv', 'w', newline=\"\", encoding='UTF8') as f:\n",
    "    writer = csv.writer(f)\n",
    "    writer.writerow(header)\n",
    "    writer.writerow(data)\n",
    "\n"
   ]
  },
  {
   "cell_type": "code",
   "execution_count": 268,
   "metadata": {},
   "outputs": [
    {
     "name": "stdout",
     "output_type": "stream",
     "text": [
      "         Date                                      Product Title  Price  \\\n",
      "0  2024-06-24  Amazon Fire TV Stick 4K Max streaming device, ...  59.99   \n",
      "1  2024-06-24  Amazon Fire TV Stick 4K Max streaming device, ...  59.99   \n",
      "\n",
      "  Number of Ratings  \n",
      "0            24,019  \n",
      "1            24,019  \n"
     ]
    }
   ],
   "source": [
    "import pandas as pd\n",
    "\n",
    "df = pd.read_csv(r'C:\\Users\\theku\\AppData\\Roaming\\jupyter\\runtime\\AmazonWebScraperDataset.csv')\n",
    "print(df)"
   ]
  },
  {
   "cell_type": "code",
   "execution_count": 269,
   "metadata": {},
   "outputs": [],
   "source": [
    "# Now we are appending data to the csv\n",
    "\n",
    "with open('AmazonWebScraperDataset.csv', 'a+', newline=\"\", encoding='UTF8') as f:\n",
    "    writer = csv.writer(f)\n",
    "    writer.writerow(data)"
   ]
  },
  {
   "cell_type": "code",
   "execution_count": 367,
   "metadata": {},
   "outputs": [],
   "source": [
    "from bs4 import BeautifulSoup\n",
    "import requests\n",
    "import smtplib\n",
    "import time\n",
    "import datetime\n",
    "import re\n",
    "import smtplib\n",
    "\n",
    "\n",
    "def send_mail():\n",
    "    server = smtplib.SMTP_SSL('smtp.gmail.com', 465)\n",
    "    server.ehlo()\n",
    "    server.login('EMAIL@gmail.com', 'PASSWORDHERE')\n",
    "\n",
    "    subject = \"Price Chnage\"\n",
    "    body = \"The price of your Amazon item has decreased.\"\n",
    "\n",
    "    msg = f'Subject: {subject}\\n\\n{body}'\n",
    "\n",
    "    server.sendmail('thekunalkokate@gmail.com', msg)\n",
    "\n",
    "\n",
    "def check_price():\n",
    "    url = 'https://www.amazon.com/all-new-amazon-fire-tv-stick-4k-max/dp/B0BP9SNVH9'\n",
    "\n",
    "    headers = { \"User-Agent\": \"Mozilla/5.0 (Windows NT 10.0; Win64; x64) AppleWebKit/537.36 (KHTML, like Gecko) Chrome/125.0.0.0 Safari/537.36 Edg/125.0.0.0\" }\n",
    "\n",
    "    page = requests.get(url, headers=headers)\n",
    "\n",
    "    soup1 = BeautifulSoup(page.content, \"html.parser\")\n",
    "    soup2 = BeautifulSoup(soup1.prettify())\n",
    "\n",
    "    title = soup2.find(id=\"productTitle\").get_text()\n",
    "    price = soup2.find(id=\"corePriceDisplay_desktop_feature_div\").get_text()\n",
    "    numOfRating = soup2.find(id=\"acrCustomerReviewLink\").get_text()\n",
    "    cleaned_price = re.search(r'\\d+\\.\\d+', price).group()\n",
    "    price = cleaned_price\n",
    "    price = float(price)\n",
    "    today = datetime.date.today()\n",
    "    numOfRating = soup2.find(id=\"acrCustomerReviewLink\").get_text()\n",
    "    cleaned_ratings = re.search(r'\\d{1,3}(,\\d{3})*', numOfRating).group()\n",
    "    numOfRating = cleaned_ratings\n",
    "    header = ['Date','Product Title', 'Price', 'Number of Ratings']\n",
    "    data = [today, title, price, numOfRating]\n",
    "\n",
    "    with open('AmazonWebScraperDataset.csv', 'a+', newline=\"\", encoding='UTF8') as f:\n",
    "        writer = csv.writer(f)\n",
    "        writer.writerow(data)\n",
    "    \n",
    "    if (price > 0):\n",
    "        send_mail()\n"
   ]
  },
  {
   "cell_type": "code",
   "execution_count": 401,
   "metadata": {},
   "outputs": [
    {
     "ename": "AttributeError",
     "evalue": "'NoneType' object has no attribute 'get_text'",
     "output_type": "error",
     "traceback": [
      "\u001b[1;31m---------------------------------------------------------------------------\u001b[0m",
      "\u001b[1;31mAttributeError\u001b[0m                            Traceback (most recent call last)",
      "Cell \u001b[1;32mIn[401], line 5\u001b[0m\n\u001b[0;32m      1\u001b[0m \u001b[38;5;66;03m#while(True):\u001b[39;00m\n\u001b[0;32m      2\u001b[0m     \u001b[38;5;66;03m#check_price()\u001b[39;00m\n\u001b[0;32m      3\u001b[0m     \u001b[38;5;66;03m#time.sleep(1)\u001b[39;00m\n\u001b[1;32m----> 5\u001b[0m \u001b[43mcheck_price\u001b[49m\u001b[43m(\u001b[49m\u001b[43m)\u001b[49m\n",
      "Cell \u001b[1;32mIn[367], line 33\u001b[0m, in \u001b[0;36mcheck_price\u001b[1;34m()\u001b[0m\n\u001b[0;32m     30\u001b[0m soup1 \u001b[38;5;241m=\u001b[39m BeautifulSoup(page\u001b[38;5;241m.\u001b[39mcontent, \u001b[38;5;124m\"\u001b[39m\u001b[38;5;124mhtml.parser\u001b[39m\u001b[38;5;124m\"\u001b[39m)\n\u001b[0;32m     31\u001b[0m soup2 \u001b[38;5;241m=\u001b[39m BeautifulSoup(soup1\u001b[38;5;241m.\u001b[39mprettify())\n\u001b[1;32m---> 33\u001b[0m title \u001b[38;5;241m=\u001b[39m \u001b[43msoup2\u001b[49m\u001b[38;5;241;43m.\u001b[39;49m\u001b[43mfind\u001b[49m\u001b[43m(\u001b[49m\u001b[38;5;28;43mid\u001b[39;49m\u001b[38;5;241;43m=\u001b[39;49m\u001b[38;5;124;43m\"\u001b[39;49m\u001b[38;5;124;43mproductTitle\u001b[39;49m\u001b[38;5;124;43m\"\u001b[39;49m\u001b[43m)\u001b[49m\u001b[38;5;241;43m.\u001b[39;49m\u001b[43mget_text\u001b[49m()\n\u001b[0;32m     34\u001b[0m price \u001b[38;5;241m=\u001b[39m soup2\u001b[38;5;241m.\u001b[39mfind(\u001b[38;5;28mid\u001b[39m\u001b[38;5;241m=\u001b[39m\u001b[38;5;124m\"\u001b[39m\u001b[38;5;124mcorePriceDisplay_desktop_feature_div\u001b[39m\u001b[38;5;124m\"\u001b[39m)\u001b[38;5;241m.\u001b[39mget_text()\n\u001b[0;32m     35\u001b[0m numOfRating \u001b[38;5;241m=\u001b[39m soup2\u001b[38;5;241m.\u001b[39mfind(\u001b[38;5;28mid\u001b[39m\u001b[38;5;241m=\u001b[39m\u001b[38;5;124m\"\u001b[39m\u001b[38;5;124macrCustomerReviewLink\u001b[39m\u001b[38;5;124m\"\u001b[39m)\u001b[38;5;241m.\u001b[39mget_text()\n",
      "\u001b[1;31mAttributeError\u001b[0m: 'NoneType' object has no attribute 'get_text'"
     ]
    }
   ],
   "source": [
    "#while(True):\n",
    "    #check_price()\n",
    "    #time.sleep(1)\n",
    "\n",
    "check_price()"
   ]
  },
  {
   "cell_type": "code",
   "execution_count": 402,
   "metadata": {},
   "outputs": [
    {
     "name": "stdout",
     "output_type": "stream",
     "text": [
      "          Date                                      Product Title  Price  \\\n",
      "0   2024-06-24  Amazon Fire TV Stick 4K Max streaming device, ...  59.99   \n",
      "1   2024-06-24  Amazon Fire TV Stick 4K Max streaming device, ...  59.99   \n",
      "2   2024-06-24  Amazon Fire TV Stick 4K Max streaming device, ...  59.99   \n",
      "3   2024-06-24  \\n             Amazon Fire TV Stick 4K Max str...  59.99   \n",
      "4   2024-06-24  \\n             Amazon Fire TV Stick 4K Max str...  59.99   \n",
      "5   2024-06-24  \\n             Amazon Fire TV Stick 4K Max str...  59.99   \n",
      "6   2024-06-24  \\n             Amazon Fire TV Stick 4K Max str...  59.99   \n",
      "7   2024-06-24  \\n             Amazon Fire TV Stick 4K Max str...  59.99   \n",
      "8   2024-06-24  \\n             Amazon Fire TV Stick 4K Max str...  59.99   \n",
      "9   2024-06-24  \\n             Amazon Fire TV Stick 4K Max str...  59.99   \n",
      "10  2024-06-24  \\n             Amazon Fire TV Stick 4K Max str...  59.99   \n",
      "\n",
      "                                    Number of Ratings  \n",
      "0                                              24,019  \n",
      "1                                              24,019  \n",
      "2                                              24,019  \n",
      "3   \\n\\n              24,019 ratings\\n             \\n  \n",
      "4   \\n\\n              24,019 ratings\\n             \\n  \n",
      "5                                              24,019  \n",
      "6                                              24,019  \n",
      "7                                              24,019  \n",
      "8                                              24,019  \n",
      "9                                              24,019  \n",
      "10                                             24,019  \n"
     ]
    }
   ],
   "source": [
    "import pandas as pd\n",
    "\n",
    "df = pd.read_csv(r'C:\\Users\\theku\\AppData\\Roaming\\jupyter\\runtime\\AmazonWebScraperDataset.csv')\n",
    "print(df)"
   ]
  },
  {
   "cell_type": "code",
   "execution_count": 403,
   "metadata": {},
   "outputs": [],
   "source": [
    "import smtplib\n",
    "\n",
    "\n",
    "def send_mail():\n",
    "    server = smtplib.SMTP_SSL('smtp.gmail.com', 465)\n",
    "    server.ehlo()\n",
    "    server.login('EMAIL@gmail.com', 'PASSWORDHERE')\n",
    "\n",
    "    subject = \"Price Chnage\"\n",
    "    body = \"The price of your Amazon item has decreased.\"\n",
    "\n",
    "    msg = f'Subject: {subject}\\n\\n{body}'\n",
    "\n",
    "    server.sendmail('thekunalkokate@gmail.com', msg)"
   ]
  },
  {
   "cell_type": "code",
   "execution_count": null,
   "metadata": {},
   "outputs": [],
   "source": []
  }
 ],
 "metadata": {
  "kernelspec": {
   "display_name": "Python 3",
   "language": "python",
   "name": "python3"
  },
  "language_info": {
   "codemirror_mode": {
    "name": "ipython",
    "version": 3
   },
   "file_extension": ".py",
   "mimetype": "text/x-python",
   "name": "python",
   "nbconvert_exporter": "python",
   "pygments_lexer": "ipython3",
   "version": "3.11.3"
  }
 },
 "nbformat": 4,
 "nbformat_minor": 2
}
